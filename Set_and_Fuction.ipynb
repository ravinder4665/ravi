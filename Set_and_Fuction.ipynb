{
  "nbformat": 4,
  "nbformat_minor": 0,
  "metadata": {
    "colab": {
      "provenance": [],
      "include_colab_link": true
    },
    "kernelspec": {
      "name": "python3",
      "display_name": "Python 3"
    },
    "language_info": {
      "name": "python"
    }
  },
  "cells": [
    {
      "cell_type": "markdown",
      "metadata": {
        "id": "view-in-github",
        "colab_type": "text"
      },
      "source": [
        "<a href=\"https://colab.research.google.com/github/ravinder4665/ravi/blob/main/Set_and_Fuction.ipynb\" target=\"_parent\"><img src=\"https://colab.research.google.com/assets/colab-badge.svg\" alt=\"Open In Colab\"/></a>"
      ]
    },
    {
      "cell_type": "code",
      "execution_count": null,
      "metadata": {
        "colab": {
          "base_uri": "https://localhost:8080/"
        },
        "id": "xhit-N2_zVuD",
        "outputId": "4fa913bc-9180-4e12-fdea-066c02493090"
      },
      "outputs": [
        {
          "output_type": "stream",
          "name": "stdout",
          "text": [
            "{'hey', 10, 'hello', 20, 30}\n"
          ]
        }
      ],
      "source": [
        "# add a value\n",
        "myset={10,20,30,\"hey\"}\n",
        "myset.add(\"hello\")\n",
        "print(myset)\n"
      ]
    },
    {
      "cell_type": "code",
      "source": [
        "# delet a value\n",
        "myset={10,20,30,\"hey\"}\n",
        "myset.remove(30)\n",
        "print(myset)"
      ],
      "metadata": {
        "colab": {
          "base_uri": "https://localhost:8080/"
        },
        "id": "EduF9lfG0LwB",
        "outputId": "738815d5-7cc8-42a0-f25c-308929dfcfd3"
      },
      "execution_count": null,
      "outputs": [
        {
          "output_type": "stream",
          "name": "stdout",
          "text": [
            "{10, 20, 'hey'}\n"
          ]
        }
      ]
    },
    {
      "cell_type": "code",
      "source": [
        "# delet value with discard (it does not gives error if the item is not present in set)\n",
        "myset={10,20,30,}\n",
        "myset.discard(\"hey\")\n",
        "print(myset)"
      ],
      "metadata": {
        "colab": {
          "base_uri": "https://localhost:8080/"
        },
        "id": "HNok32yUsAEi",
        "outputId": "623212ba-5677-4ca2-d31e-84abfa15c602"
      },
      "execution_count": null,
      "outputs": [
        {
          "output_type": "stream",
          "name": "stdout",
          "text": [
            "{10, 20, 30}\n"
          ]
        }
      ]
    },
    {
      "cell_type": "code",
      "source": [
        "#union\n",
        "myset={10,20,30,\"hey\"}\n",
        "mysetb={40,50,60,\"hello\"}\n",
        "mysetc=myset.union(mysetb)\n",
        "print(mysetc)\n"
      ],
      "metadata": {
        "colab": {
          "base_uri": "https://localhost:8080/"
        },
        "id": "edW_9qPI0SOv",
        "outputId": "18cac411-db0c-4553-f50e-6d16edd86ec8"
      },
      "execution_count": null,
      "outputs": [
        {
          "output_type": "stream",
          "name": "stdout",
          "text": [
            "{40, 'hey', 10, 50, 20, 60, 'hello', 30}\n"
          ]
        }
      ]
    },
    {
      "cell_type": "code",
      "source": [
        "#function\n",
        "# block of code => task/funtionalty\n",
        "# if we use loops so we need to rewrite every time but in fuction we dont need to rewrite the code\n"
      ],
      "metadata": {
        "id": "_9ZPpIqq0m1Y"
      },
      "execution_count": null,
      "outputs": []
    },
    {
      "cell_type": "code",
      "source": [
        "def msg():\n",
        "    print(\"hello\")"
      ],
      "metadata": {
        "id": "8TEGWCk11pL4"
      },
      "execution_count": null,
      "outputs": []
    },
    {
      "cell_type": "code",
      "source": [
        "msg()\n",
        "msg()\n",
        "msg()"
      ],
      "metadata": {
        "colab": {
          "base_uri": "https://localhost:8080/"
        },
        "id": "UxIY-7pg13JB",
        "outputId": "d43393ca-7b8a-4e9a-ff38-fad74a70023e"
      },
      "execution_count": null,
      "outputs": [
        {
          "output_type": "stream",
          "name": "stdout",
          "text": [
            "hello\n",
            "hello\n",
            "hello\n"
          ]
        }
      ]
    },
    {
      "cell_type": "code",
      "source": [
        "# parameter =>x\n",
        "def msg(x):\n",
        "    print(\"hello\",x)"
      ],
      "metadata": {
        "id": "i5u3LFjs2JL_"
      },
      "execution_count": null,
      "outputs": []
    },
    {
      "cell_type": "code",
      "source": [
        "#value => argument\n",
        "msg(\"10\")\n"
      ],
      "metadata": {
        "colab": {
          "base_uri": "https://localhost:8080/"
        },
        "id": "VFSSd71r3FF5",
        "outputId": "b0d2e3b0-a06d-4d49-8301-9ab3c1c889df"
      },
      "execution_count": null,
      "outputs": [
        {
          "output_type": "stream",
          "name": "stdout",
          "text": [
            "hello 10\n"
          ]
        }
      ]
    },
    {
      "cell_type": "code",
      "source": [
        "def sumfunc(x,y):\n",
        "    print(x+y)\n",
        "sumfunc(10,20)"
      ],
      "metadata": {
        "colab": {
          "base_uri": "https://localhost:8080/"
        },
        "id": "M4IZpJuw3Hxp",
        "outputId": "c5279f25-b852-4927-f1ed-3709032477a0"
      },
      "execution_count": null,
      "outputs": [
        {
          "output_type": "stream",
          "name": "stdout",
          "text": [
            "30\n"
          ]
        }
      ]
    },
    {
      "cell_type": "code",
      "source": [
        "def sumfunc(x,y):\n",
        "    print(x+y)\n",
        "sumfunc(10,20)\n",
        "sumfunc(15,20)"
      ],
      "metadata": {
        "colab": {
          "base_uri": "https://localhost:8080/"
        },
        "id": "4LmxnfgT35Hp",
        "outputId": "4d2f73ed-5acb-4db0-fb7f-e13013526df8"
      },
      "execution_count": null,
      "outputs": [
        {
          "output_type": "stream",
          "name": "stdout",
          "text": [
            "30\n",
            "35\n"
          ]
        }
      ]
    },
    {
      "cell_type": "code",
      "source": [
        "#local variable=> x1\n",
        "def func(x1):\n",
        "    print(x1)\n",
        "func(10)\n",
        "print(x1)"
      ],
      "metadata": {
        "colab": {
          "base_uri": "https://localhost:8080/",
          "height": 193
        },
        "id": "hV1u9PHu4Xuk",
        "outputId": "681baf62-eee2-4cb3-9979-d394ed56815f"
      },
      "execution_count": null,
      "outputs": [
        {
          "output_type": "stream",
          "name": "stdout",
          "text": [
            "10\n"
          ]
        },
        {
          "output_type": "error",
          "ename": "NameError",
          "evalue": "name 'x1' is not defined",
          "traceback": [
            "\u001b[0;31m---------------------------------------------------------------------------\u001b[0m",
            "\u001b[0;31mNameError\u001b[0m                                 Traceback (most recent call last)",
            "\u001b[0;32m<ipython-input-21-01fc119fbcf0>\u001b[0m in \u001b[0;36m<cell line: 5>\u001b[0;34m()\u001b[0m\n\u001b[1;32m      3\u001b[0m     \u001b[0mprint\u001b[0m\u001b[0;34m(\u001b[0m\u001b[0mx1\u001b[0m\u001b[0;34m)\u001b[0m\u001b[0;34m\u001b[0m\u001b[0;34m\u001b[0m\u001b[0m\n\u001b[1;32m      4\u001b[0m \u001b[0mfunc\u001b[0m\u001b[0;34m(\u001b[0m\u001b[0;36m10\u001b[0m\u001b[0;34m)\u001b[0m\u001b[0;34m\u001b[0m\u001b[0;34m\u001b[0m\u001b[0m\n\u001b[0;32m----> 5\u001b[0;31m \u001b[0mprint\u001b[0m\u001b[0;34m(\u001b[0m\u001b[0mx1\u001b[0m\u001b[0;34m)\u001b[0m\u001b[0;34m\u001b[0m\u001b[0;34m\u001b[0m\u001b[0m\n\u001b[0m",
            "\u001b[0;31mNameError\u001b[0m: name 'x1' is not defined"
          ]
        }
      ]
    },
    {
      "cell_type": "code",
      "source": [
        "def func(x1):\n",
        "    print(x1)\n",
        "#outside => global variable\n",
        "x2=1300\n",
        "func(x2)\n"
      ],
      "metadata": {
        "colab": {
          "base_uri": "https://localhost:8080/"
        },
        "id": "66b7FWv240rh",
        "outputId": "4057daa6-fa01-4e59-812c-cfe7ca936c45"
      },
      "execution_count": null,
      "outputs": [
        {
          "output_type": "stream",
          "name": "stdout",
          "text": [
            "1300\n"
          ]
        }
      ]
    },
    {
      "cell_type": "code",
      "source": [
        "# int is a immutable datatype"
      ],
      "metadata": {
        "id": "JsqZv0Ui5rUO"
      },
      "execution_count": null,
      "outputs": []
    },
    {
      "cell_type": "code",
      "source": [
        "def func(x2):\n",
        "    print(\"x2\",x1)\n",
        "#outside => global variable\n",
        "x1=1300\n",
        "func(x1)\n"
      ],
      "metadata": {
        "colab": {
          "base_uri": "https://localhost:8080/"
        },
        "id": "CxnHhL766Lh0",
        "outputId": "fb462bd8-ff90-4602-af8a-e451ebad15dc"
      },
      "execution_count": null,
      "outputs": [
        {
          "output_type": "stream",
          "name": "stdout",
          "text": [
            "x2 1300\n"
          ]
        }
      ]
    },
    {
      "cell_type": "code",
      "source": [
        "def func(x2):\n",
        "  x2=1000\n",
        "  print(\"inside funtion x2\",x2)\n",
        "#outside => global variable\n",
        "x1=1300\n",
        "func(x1)\n",
        "print(\"outside\",x1)\n"
      ],
      "metadata": {
        "colab": {
          "base_uri": "https://localhost:8080/"
        },
        "id": "qgtGQ5v76nKj",
        "outputId": "81215628-92fc-4af5-c4dc-10d0a8e0daa7"
      },
      "execution_count": null,
      "outputs": [
        {
          "output_type": "stream",
          "name": "stdout",
          "text": [
            "inside funtion x2 1000\n",
            "outside 1300\n"
          ]
        }
      ]
    },
    {
      "cell_type": "code",
      "source": [
        "def employee(eid,ename):\n",
        "    print(f\"Eid {eid} Ename {ename}\")\n",
        "# keyword argument\n",
        "employee(eid=10,ename=\"ram\")"
      ],
      "metadata": {
        "colab": {
          "base_uri": "https://localhost:8080/"
        },
        "id": "Va1InmLu7yIM",
        "outputId": "eb3ba303-25f3-49d2-892a-1f67a97ab2fa"
      },
      "execution_count": null,
      "outputs": [
        {
          "output_type": "stream",
          "name": "stdout",
          "text": [
            "Eid 10 Ename ram\n"
          ]
        }
      ]
    },
    {
      "cell_type": "code",
      "source": [
        "# Varuable length argumrent\n",
        "def employee(*detail):\n",
        "    print(detail,type(detail))\n",
        "\n",
        "employee(10,\"ram\")\n"
      ],
      "metadata": {
        "colab": {
          "base_uri": "https://localhost:8080/"
        },
        "id": "hmy5YUFq83E4",
        "outputId": "ef9c546a-3c30-40fc-9362-aa8ee363c490"
      },
      "execution_count": null,
      "outputs": [
        {
          "output_type": "stream",
          "name": "stdout",
          "text": [
            "(10, 'ram') <class 'tuple'>\n"
          ]
        }
      ]
    },
    {
      "cell_type": "code",
      "source": [
        "# Lambda funtion\n",
        "# lembda parameter : expression\n",
        "regex = lambda x: x*x\n",
        "regex(10)"
      ],
      "metadata": {
        "colab": {
          "base_uri": "https://localhost:8080/"
        },
        "id": "f8sJ5Yue-q6X",
        "outputId": "2ab7140a-d755-4e4c-98b1-2a1c40f2092a"
      },
      "execution_count": null,
      "outputs": [
        {
          "output_type": "execute_result",
          "data": {
            "text/plain": [
              "100"
            ]
          },
          "metadata": {},
          "execution_count": 41
        }
      ]
    },
    {
      "cell_type": "code",
      "source": [
        "#  \"map, fliter\"\n",
        "def square(x):\n",
        "    return x**3\n",
        "mylist=[1,2,3,4,5]\n",
        "print(list(map(square,mylist)))\n"
      ],
      "metadata": {
        "colab": {
          "base_uri": "https://localhost:8080/"
        },
        "id": "KzrfFH4M_bRv",
        "outputId": "2cc35785-c7ce-40f5-d32e-5ec719598376"
      },
      "execution_count": null,
      "outputs": [
        {
          "output_type": "stream",
          "name": "stdout",
          "text": [
            "[1, 8, 27, 64, 125]\n"
          ]
        }
      ]
    },
    {
      "cell_type": "code",
      "source": [
        "list(map(lambda x: x**2,mylist))"
      ],
      "metadata": {
        "id": "XXids5s0BCGa"
      },
      "execution_count": null,
      "outputs": []
    },
    {
      "cell_type": "code",
      "source": [
        "#first class funtion\n",
        "def func(x):\n",
        "  print(\"hello\")\n",
        "x=func\n",
        "x()"
      ],
      "metadata": {
        "id": "Cao5QoCIBTfT",
        "colab": {
          "base_uri": "https://localhost:8080/"
        },
        "outputId": "3b225b03-2ad7-4a7d-ba3e-10c2f0a822d8"
      },
      "execution_count": null,
      "outputs": [
        {
          "output_type": "stream",
          "name": "stdout",
          "text": [
            "hello\n"
          ]
        }
      ]
    },
    {
      "cell_type": "code",
      "source": [
        "out=lambda x : \"hello\"\n",
        "out(10)"
      ],
      "metadata": {
        "colab": {
          "base_uri": "https://localhost:8080/",
          "height": 35
        },
        "id": "sK__1v32ZkyM",
        "outputId": "db333a76-ab53-4b85-b9f6-bcdb9be392c2"
      },
      "execution_count": null,
      "outputs": [
        {
          "output_type": "execute_result",
          "data": {
            "text/plain": [
              "'hello'"
            ],
            "application/vnd.google.colaboratory.intrinsic+json": {
              "type": "string"
            }
          },
          "metadata": {},
          "execution_count": 5
        }
      ]
    },
    {
      "cell_type": "code",
      "source": [
        "list1=[\"hey\",\"hello\",\"hi\"]\n",
        "list(map(len,list1)) # genertor"
      ],
      "metadata": {
        "colab": {
          "base_uri": "https://localhost:8080/"
        },
        "id": "5DxymqdYZ1eg",
        "outputId": "d03db488-b128-444e-9a06-a6b71e835b8c"
      },
      "execution_count": null,
      "outputs": [
        {
          "output_type": "execute_result",
          "data": {
            "text/plain": [
              "[3, 5, 2]"
            ]
          },
          "metadata": {},
          "execution_count": 7
        }
      ]
    },
    {
      "cell_type": "code",
      "source": [
        "list1=[\"hey\",\"hello\",\"hi\"]\n",
        "list(map(lambda x: (x,1), list1))"
      ],
      "metadata": {
        "colab": {
          "base_uri": "https://localhost:8080/"
        },
        "id": "bU3r-h_Cahyr",
        "outputId": "e27ae4f8-6e6f-4201-912e-a9c47ef1c29a"
      },
      "execution_count": null,
      "outputs": [
        {
          "output_type": "execute_result",
          "data": {
            "text/plain": [
              "[('hey', 1), ('hello', 1), ('hi', 1)]"
            ]
          },
          "metadata": {},
          "execution_count": 11
        }
      ]
    },
    {
      "cell_type": "code",
      "source": [
        "def func(num):\n",
        "  print(\"cake\",num)\n",
        "  return 200\n",
        "#call funtion\n",
        "out=func(10)\n",
        "print(out)"
      ],
      "metadata": {
        "colab": {
          "base_uri": "https://localhost:8080/"
        },
        "id": "K6SyjYFabCIi",
        "outputId": "5f740f90-57ba-4737-a145-97cf39b373b2"
      },
      "execution_count": null,
      "outputs": [
        {
          "output_type": "stream",
          "name": "stdout",
          "text": [
            "cake 10\n",
            "200\n"
          ]
        }
      ]
    },
    {
      "cell_type": "code",
      "source": [
        "#Flie handling\n",
        "#mechanism = file task\n",
        "#read/write\n",
        "# work in file handling"
      ],
      "metadata": {
        "id": "9Gz5voW3c_dR"
      },
      "execution_count": null,
      "outputs": []
    },
    {
      "cell_type": "code",
      "source": [
        "#readline ia used for read a file in form of list"
      ],
      "metadata": {
        "id": "LO-xnJp8ks5-"
      },
      "execution_count": null,
      "outputs": []
    },
    {
      "cell_type": "code",
      "source": [
        "with open(\"regex.txt\",\"r\") as f:\n",
        "    print(f.readline())"
      ],
      "metadata": {
        "colab": {
          "base_uri": "https://localhost:8080/"
        },
        "id": "NZ7XHR1Nlaeq",
        "outputId": "822a4c7f-cccf-41b2-e64b-2ddc1cb7a09d"
      },
      "execution_count": null,
      "outputs": [
        {
          "output_type": "stream",
          "name": "stdout",
          "text": [
            "hey\n"
          ]
        }
      ]
    },
    {
      "cell_type": "code",
      "source": [
        "# Execption handling\n",
        "# list comphresion , dict comphersion\n",
        "# practcie on hackerrank"
      ],
      "metadata": {
        "id": "JdLoqroElspa"
      },
      "execution_count": null,
      "outputs": []
    },
    {
      "cell_type": "code",
      "source": [],
      "metadata": {
        "colab": {
          "base_uri": "https://localhost:8080/"
        },
        "id": "Dtm11PrKwQ8f",
        "outputId": "f1cf146b-26e7-4cb3-c908-b5976fc86789"
      },
      "execution_count": null,
      "outputs": [
        {
          "output_type": "stream",
          "name": "stdout",
          "text": [
            "Enter an integer: 4\n",
            "Not Weird\n"
          ]
        }
      ]
    }
  ]
}